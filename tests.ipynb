{
 "cells": [
  {
   "cell_type": "code",
   "execution_count": 1,
   "metadata": {},
   "outputs": [],
   "source": [
    "import pandas as pd\n",
    "import grequests\n",
    "import logging\n",
    "import time\n",
    "import json\n",
    "from statistics import mean\n",
    "import numpy as np\n",
    "\n",
    "test_url = \"http://localhost:80/test\"\n",
    "testfile_path = './testset.csv'\n",
    "\n",
    "logging.basicConfig(level=logging.INFO)"
   ]
  },
  {
   "cell_type": "code",
   "execution_count": 2,
   "metadata": {},
   "outputs": [],
   "source": [
    "def read_chunks(path, chunk_size):\n",
    "    data_chunks = pd.read_csv(path,chunksize=chunk_size)\n",
    "    return data_chunks"
   ]
  },
  {
   "cell_type": "code",
   "execution_count": 3,
   "metadata": {},
   "outputs": [],
   "source": [
    "def form_requests(chunks, url):\n",
    "    requests=[]\n",
    "    for i, chunk in enumerate(chunks):\n",
    "        test = chunk.drop([x for x in chunk.columns if 'Label_' in x], axis=1)\n",
    "        json_data = test.to_json(orient='values')\n",
    "        requests.append(grequests.post(url, json=json_data))\n",
    "    return requests"
   ]
  },
  {
   "cell_type": "code",
   "execution_count": 4,
   "metadata": {},
   "outputs": [],
   "source": [
    "def run_requests(reqs,bl_size=50):\n",
    "    results = []\n",
    "    for resp in grequests.imap(reqs, size=bl_size):\n",
    "        # results+=json.loads(resp.text)\n",
    "        var = resp.text\n",
    "    return results"
   ]
  },
  {
   "cell_type": "code",
   "execution_count": 5,
   "metadata": {},
   "outputs": [],
   "source": [
    "def run_test(chunksizes: list, tests_num):\n",
    "    results = pd.DataFrame(columns=[\"chunksize\",\"loadtime\",\"reqtime\",\"exetime\"])\n",
    "    for ch_size in chunksizes:\n",
    "\n",
    "        logging.info(f\"testing for chunskize: {ch_size}\")\n",
    "        start_time = time.time()\n",
    "        data = read_chunks(testfile_path, ch_size)\n",
    "        load_time = time.time() - start_time\n",
    "        logging.info(f\"loadtime: {load_time}\")\n",
    "\n",
    "        start_time = time.time()\n",
    "        reqs = form_requests(data,test_url)\n",
    "        req_time = time.time() - start_time\n",
    "        logging.info(f\"request_time: {req_time}\")\n",
    "\n",
    "        test_times=[]\n",
    "        for i in range(0, tests_num):\n",
    "            logging.info(f\"execution test {i} for chunskize: {ch_size}\")\n",
    "            start_time = time.time()\n",
    "            run_requests(reqs)\n",
    "            exe_time = time.time() - start_time\n",
    "            test_times.append(exe_time)\n",
    "        test_time=mean(test_times)\n",
    "\n",
    "        logging.info(f\"exe_time: {test_time}\")\n",
    "\n",
    "        results = results.append({\n",
    "            \"chunksize\": ch_size,\n",
    "            \"loadtime\": load_time,\n",
    "            \"reqtime\": req_time, \n",
    "            \"exetime\": test_time\n",
    "            }\n",
    "            , ignore_index=True)\n",
    "    return results"
   ]
  },
  {
   "cell_type": "code",
   "execution_count": 6,
   "metadata": {},
   "outputs": [
    {
     "name": "stderr",
     "output_type": "stream",
     "text": [
      "INFO:root:testing for chunskize: 100000\n",
      "INFO:root:loadtime: 0.006522417068481445\n",
      "INFO:root:request_time: 26.204954624176025\n",
      "INFO:root:execution test 0 for chunskize: 100000\n",
      "INFO:root:exe_time: 32.78629803657532\n",
      "INFO:root:testing for chunskize: 500000\n",
      "INFO:root:loadtime: 0.0032563209533691406\n"
     ]
    },
    {
     "ename": "",
     "evalue": "",
     "output_type": "error",
     "traceback": [
      "\u001b[1;31mCanceled future for execute_request message before replies were done"
     ]
    },
    {
     "ename": "",
     "evalue": "",
     "output_type": "error",
     "traceback": [
      "\u001b[1;31mThe Kernel crashed while executing code in the the current cell or a previous cell. Please review the code in the cell(s) to identify a possible cause of the failure. Click <a href='https://aka.ms/vscodeJupyterKernelCrash'>here</a> for more info. View Jupyter <a href='command:jupyter.viewOutput'>log</a> for further details."
     ]
    }
   ],
   "source": [
    "res = run_test([100000,500000,1000000],1)\n",
    "res.head()"
   ]
  }
 ],
 "metadata": {
  "kernelspec": {
   "display_name": "Python 3",
   "language": "python",
   "name": "python3"
  },
  "language_info": {
   "codemirror_mode": {
    "name": "ipython",
    "version": 3
   },
   "file_extension": ".py",
   "mimetype": "text/x-python",
   "name": "python",
   "nbconvert_exporter": "python",
   "pygments_lexer": "ipython3",
   "version": "3.10.2"
  },
  "orig_nbformat": 4,
  "vscode": {
   "interpreter": {
    "hash": "97cc609b13305c559618ec78a438abc56230b9381f827f22d070313b9a1f3777"
   }
  }
 },
 "nbformat": 4,
 "nbformat_minor": 2
}
